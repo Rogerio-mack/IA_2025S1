{
  "nbformat": 4,
  "nbformat_minor": 0,
  "metadata": {
    "colab": {
      "provenance": [],
      "authorship_tag": "ABX9TyMowRLCmD/zxVXWu/ZvEMFC",
      "include_colab_link": true
    },
    "kernelspec": {
      "name": "python3",
      "display_name": "Python 3"
    },
    "language_info": {
      "name": "python"
    }
  },
  "cells": [
    {
      "cell_type": "markdown",
      "metadata": {
        "id": "view-in-github",
        "colab_type": "text"
      },
      "source": [
        "<a href=\"https://colab.research.google.com/github/Rogerio-mack/IA_2025S1/blob/main/GeneticAlgorithms.ipynb\" target=\"_parent\"><img src=\"https://colab.research.google.com/assets/colab-badge.svg\" alt=\"Open In Colab\"/></a>"
      ]
    },
    {
      "cell_type": "markdown",
      "source": [
        "# **Algoritmos Genéticos**\n",
        "\n"
      ],
      "metadata": {
        "id": "7oeN56c50HBD"
      }
    },
    {
      "cell_type": "markdown",
      "source": [
        "**Algoritmos Genéticos (AG)** são baseados na abordagem evolucionária da IA, na qual métodos de evolução da população são usados ​​para obter uma solução ótima para um dado problema. Eles foram propostos em 1975 por **John Henry Holland**.\n",
        "\n",
        "Os algoritmos genéticos são baseados nos seguintes conceitos:\n",
        "\n",
        "- Soluções válidas para o problema podem ser representadas como **genes**\n",
        "- O **crossover**, ou cruzamento, combina duas soluções para obter uma nova solução alternativa\n",
        "- A **seleção** é usada para selecionar soluções mais otimizadas usando alguma função de **fitness** ou de custo\n",
        "- **Mutações** são introduzidas para desestabilizar a otimização e desviando de soluções de mínimo local\n",
        "\n"
      ],
      "metadata": {
        "id": "qOfw7smQzM6d"
      }
    },
    {
      "cell_type": "markdown",
      "source": [
        "Assim, para implementar um Algoritmo Genético, você precisa:\n",
        "\n",
        "- Codificar as soluções do problemas usando **genes** $g ∈ Γ$\n",
        "- Definir uma **função de fitness** (aptidão) sobre o conjunto de genes $f:Γ→ R$, com valores menores (ou menores) da função correspondendo a melhores soluções (é um problema de otimização).\n",
        "- Definir o mecanismo de cruzamento para combinar dois genes (duas soluções) para obter uma nova solução válida $\\textbf{crossover}:Γ2→ Γ$.\n",
        "- Definir um mecanismo de mutação $\\textbf{mutation}:Γ→Γ$​​​​​ que altera ligeiramente algumas das soluções iniciais. Em geral, o cruzamento e mutação são algoritmos bastante simples que manipulam os \"genes\" representados em sequências numéricas ou vetores de bits, como a concatenação de partes de uma solução, alteração de um percentual da cadeia etc.\n",
        "\n"
      ],
      "metadata": {
        "id": "CkalUMF71Wrx"
      }
    },
    {
      "cell_type": "markdown",
      "source": [
        "## `Pseudo`"
      ],
      "metadata": {
        "id": "oSfU5hTQ5Tat"
      }
    },
    {
      "cell_type": "markdown",
      "source": [
        "A implementação específica de um algoritmo genético pode variar de caso para caso, mas sua estrutura geral é dada por:\n",
        "\n",
        "1. Crie uma **População Inicial** $G ⊂ Γ$ de soluções\n",
        "2. **Avaliação**, *Evaluation*\n",
        "> Calcule a função de Fitness dos indivíduos (as soluções).\n",
        "3. **Seleção**, Selection\n",
        "> Selecione os indivíduos (soluções) mais aptos que serão empregados no Crossover $G' ⊂ Γ$.\n",
        "4. **Cruzamento**, Crossover\n",
        "> Selecione aleatoriamente duas soluções $g_1,g_2 ∈ G'$,  calcule $g= \\mathrm{xover}(​​​g_1,g_2)$ criando a nova geração $G''$\n",
        "5. **Mutação**, Mutation\n",
        "> selecione indivíduos aleatórios $ g∈ G''$ e substitua por $\\mathrm{mutation}(g)$.\n",
        "6. **Nova geração**, Replacement\n",
        "> Substitua parte ou totalmente a geração anterior pela atual.\n",
        "\n",
        "7. **Repita** a partir do passo 2, até obters um valor suficientemente pequeno de $fit$​, ou até que um limite do número de gerações seja atingido.\n",
        "\n",
        "\n",
        "Diversas variantes podem ser criadas, como diferentes percentuais e esquemas criação de novos indíviduos, taxa de mortalidade, taxas de mutação etc.\n",
        "\n",
        "> **SUGIRA ALGUMAS VOCÊ!**"
      ],
      "metadata": {
        "id": "3tdSu5D23G-a"
      }
    },
    {
      "cell_type": "markdown",
      "source": [
        "\n",
        "\n",
        "<p>\n",
        "  <img src=\"https://user-images.githubusercontent.com/16560492/220486073-c5b6089d-81e4-44d9-a53c-385f479a7273.jpg\" width=\"50%\" align=\"center\"/>\n",
        "</p>"
      ],
      "metadata": {
        "id": "QJrsZsfvJ6Xx"
      }
    },
    {
      "cell_type": "markdown",
      "source": [
        "## Tipos de Problemas\n",
        "\n",
        "Alguns tipos de problemas normalmente resolvidos pelo GA envolvem:\n",
        "\n",
        "- Problemas de Otimização em Geral\n",
        "  - Logística, transporte\n",
        "  - Cronogramas\n",
        "  - Alocação de recursos\n",
        "  - Otimização de cateiras\n",
        "  - Otimização multiobjetivo\n",
        "- Embalagem ótima\n",
        "- Corte ótimo\n",
        "- Problemas de busca exaustiva"
      ],
      "metadata": {
        "id": "UVlSI1545JDv"
      }
    },
    {
      "cell_type": "markdown",
      "source": [
        "# Exemplo: Divisão Justa  \n",
        "\n",
        "Considere vários pacotes de mercadoria de diferentes valores e suponha que você deseje dividir igualmente essas mercadorias de forma que a diferença, entre os dois conjuntos seja mínimo.\n",
        "\n",
        "\n"
      ],
      "metadata": {
        "id": "1qHhC7o5zUsg"
      }
    },
    {
      "cell_type": "markdown",
      "source": [
        "## Formalizando o problema\n",
        "\n",
        "O conjunto de valores $S$ precisa ser dividido em dois subconjuntos $S_1$ e $S_2$, de modo que\n",
        "\n",
        "$$\\left|\\sum_{i\\in S_1}i - \\sum_{j\\in S_2}j\\right|\\to\\min$$\n",
        "\n",
        "e $S_1\\cup S_2=S$, $S_1\\cap S_2=\\emptyset$.\n",
        "\n"
      ],
      "metadata": {
        "id": "yii_rNn26zag"
      }
    },
    {
      "cell_type": "code",
      "execution_count": 2,
      "metadata": {
        "trusted": true,
        "id": "6KygQCUayigK"
      },
      "outputs": [],
      "source": [
        "import random\n",
        "import matplotlib.pyplot as plt\n",
        "import numpy as np\n",
        "import math\n",
        "import time"
      ]
    },
    {
      "cell_type": "code",
      "execution_count": 7,
      "metadata": {
        "trusted": true,
        "id": "cZApwYI1yigN",
        "outputId": "dd84cdd5-acfa-4c93-bd67-a45cfec47b3a",
        "colab": {
          "base_uri": "https://localhost:8080/"
        }
      },
      "outputs": [
        {
          "output_type": "stream",
          "name": "stdout",
          "text": [
            "[  7 768 562 803  40 335 385 268 961 703 314 863 245  99 838 794 862 882]\n"
          ]
        }
      ],
      "source": [
        "N = 18      # troque aqui por 100, ou mais\n",
        "S = np.array([random.randint(1,1000) for _ in range(N)])\n",
        "print(S)"
      ]
    },
    {
      "cell_type": "markdown",
      "source": [
        "## Solução inicial em *genes*"
      ],
      "metadata": {
        "id": "MqG-mrC8-nHA"
      }
    },
    {
      "cell_type": "markdown",
      "source": [
        "Vamos codificar cada solução possível do problema por um vetor binário $B ∈ { 0,1}$ onde o $i$-ésimo número mostra se o $i$-ésimo elemento do conjunto original S pertence a $S_1$ (`TRUE`) ou $S_2$ (`FALSE`)."
      ],
      "metadata": {
        "id": "SaG2Ga0szbW5"
      }
    },
    {
      "cell_type": "code",
      "execution_count": 17,
      "metadata": {
        "trusted": true,
        "id": "k8ig6KF7yigP",
        "outputId": "db3c3db1-9825-4cab-a3aa-88b572f7c2cd",
        "colab": {
          "base_uri": "https://localhost:8080/"
        }
      },
      "outputs": [
        {
          "output_type": "stream",
          "name": "stdout",
          "text": [
            "[0 1 1 0 0 0 1 0 1 1 0 1 0 1 1 0 0 0]\n"
          ]
        }
      ],
      "source": [
        "def generate(S):\n",
        "    return np.array([random.randint(0,1) for _ in S])\n",
        "\n",
        "B = generate(S)\n",
        "print(B)"
      ]
    },
    {
      "cell_type": "code",
      "source": [
        "S, B*S, (1-B)*S"
      ],
      "metadata": {
        "colab": {
          "base_uri": "https://localhost:8080/"
        },
        "id": "3v7rqifK9zh9",
        "outputId": "1778306e-190c-4d48-ef5f-ca03a91bebb2"
      },
      "execution_count": 12,
      "outputs": [
        {
          "output_type": "execute_result",
          "data": {
            "text/plain": [
              "(array([  7, 768, 562, 803,  40, 335, 385, 268, 961, 703, 314, 863, 245,\n",
              "         99, 838, 794, 862, 882]),\n",
              " array([  7,   0, 562, 803,   0, 335,   0,   0,   0, 703,   0, 863, 245,\n",
              "          0, 838,   0,   0, 882]),\n",
              " array([  0, 768,   0,   0,  40,   0, 385, 268, 961,   0, 314,   0,   0,\n",
              "         99,   0, 794, 862,   0]))"
            ]
          },
          "metadata": {},
          "execution_count": 12
        }
      ]
    },
    {
      "cell_type": "markdown",
      "source": [
        "## Função de *Fitness*"
      ],
      "metadata": {
        "id": "KgoY4ILO-1dx"
      }
    },
    {
      "cell_type": "markdown",
      "source": [
        "O \"custo\" da solução será a diferença entre a soma ou dois conjuntos, $S_1$ e $S_2$, que queremos minimizar."
      ],
      "metadata": {
        "id": "nfVDSkwmzd8Q"
      }
    },
    {
      "cell_type": "code",
      "execution_count": 14,
      "metadata": {
        "trusted": true,
        "id": "q_bn6mhlyigQ",
        "outputId": "4cae513d-1724-4cdc-e72f-9f6c268ca52b",
        "colab": {
          "base_uri": "https://localhost:8080/"
        }
      },
      "outputs": [
        {
          "output_type": "execute_result",
          "data": {
            "text/plain": [
              "np.int64(747)"
            ]
          },
          "metadata": {},
          "execution_count": 14
        }
      ],
      "source": [
        "def fitness(B,S=S):\n",
        "    c1 = (B*S).sum()\n",
        "    c2 = ((1-B)*S).sum()\n",
        "    return abs(c1-c2)\n",
        "\n",
        "fitness(B)"
      ]
    },
    {
      "cell_type": "markdown",
      "source": [
        "## *Crossover*\n",
        "\n",
        "Para o crossover, pegaremos alguns bits de um vetor e alguns bits de outro. Usaremos a mesma função `generate()` para selecionar aleatoriamente quais bits pegar de qual das máscaras de entrada."
      ],
      "metadata": {
        "id": "7fTGjoQXzf0B"
      }
    },
    {
      "cell_type": "code",
      "execution_count": 15,
      "metadata": {
        "trusted": true,
        "id": "-ogDeb70yigR"
      },
      "outputs": [],
      "source": [
        "def xover(b1,b2):\n",
        "    x = generate(b1)\n",
        "    return b1*x+b2*(1-x)"
      ]
    },
    {
      "cell_type": "code",
      "source": [
        "b1 = generate(S)\n",
        "b2 = generate(S)\n",
        "\n",
        "b1, b2, xover(b1,b2)\n",
        "\n"
      ],
      "metadata": {
        "colab": {
          "base_uri": "https://localhost:8080/"
        },
        "id": "BeaK2WzCAUWb",
        "outputId": "d58b036c-c58e-4105-8975-c15068b86029"
      },
      "execution_count": 18,
      "outputs": [
        {
          "output_type": "execute_result",
          "data": {
            "text/plain": [
              "(array([0, 0, 1, 0, 1, 0, 0, 1, 1, 1, 1, 0, 1, 1, 0, 0, 0, 0]),\n",
              " array([0, 1, 0, 0, 1, 0, 1, 1, 0, 1, 1, 1, 1, 0, 1, 1, 1, 0]),\n",
              " array([0, 0, 1, 0, 1, 0, 0, 1, 1, 1, 1, 1, 1, 0, 0, 1, 0, 0]))"
            ]
          },
          "metadata": {},
          "execution_count": 18
        }
      ]
    },
    {
      "cell_type": "markdown",
      "source": [
        "## Mutação\n",
        "\n",
        "Selecionaremos um bit aleatório e o negaremos (mudaremos de 0 para 1 e vice-versa)."
      ],
      "metadata": {
        "id": "aembaSRc_P7W"
      }
    },
    {
      "cell_type": "code",
      "execution_count": 16,
      "metadata": {
        "trusted": true,
        "id": "yAHlJheJ_Rdm"
      },
      "outputs": [],
      "source": [
        "def mutate(b):\n",
        "    x = b.copy()\n",
        "    i = random.randint(0,len(b)-1)\n",
        "    x[i] = 1-x[i]\n",
        "    return x\n"
      ]
    },
    {
      "cell_type": "code",
      "source": [
        "b1, mutate(b1)"
      ],
      "metadata": {
        "colab": {
          "base_uri": "https://localhost:8080/"
        },
        "id": "jbQwytE7AmVl",
        "outputId": "cf9923b4-46de-4fc4-f6fd-4485c9434533"
      },
      "execution_count": 19,
      "outputs": [
        {
          "output_type": "execute_result",
          "data": {
            "text/plain": [
              "(array([0, 0, 1, 0, 1, 0, 0, 1, 1, 1, 1, 0, 1, 1, 0, 0, 0, 0]),\n",
              " array([0, 0, 1, 0, 1, 0, 0, 1, 1, 1, 1, 0, 1, 0, 0, 0, 0, 0]))"
            ]
          },
          "metadata": {},
          "execution_count": 19
        }
      ]
    },
    {
      "cell_type": "markdown",
      "source": [
        "## População Inicial de Soluções"
      ],
      "metadata": {
        "id": "5GGrh12kAu7S"
      }
    },
    {
      "cell_type": "markdown",
      "source": [
        "Vamos criar uma população inicial de soluções $P$."
      ],
      "metadata": {
        "id": "Lj7IkACNzhlW"
      }
    },
    {
      "cell_type": "code",
      "execution_count": 20,
      "metadata": {
        "trusted": true,
        "id": "rmRahDPKyigR"
      },
      "outputs": [],
      "source": [
        "pop_size = 30 # tamanho da população\n",
        "P = [generate(S) for _ in range(pop_size)]"
      ]
    },
    {
      "cell_type": "markdown",
      "source": [
        "## Evolução"
      ],
      "metadata": {
        "id": "vEnlGukCCCYb"
      }
    },
    {
      "cell_type": "markdown",
      "source": [
        "Fazemos agora a evolução de novas gerações da população inicial. A cada geração, realizamos uma mutação com a probabilidade de 30% e substituímos o elemento com a pior função fitness pelo elemento mutado. Com probabilidade de 70% realizamos crossover. A função retorna a melhor solução (gene correspondente à melhor solução) e o histórico da função de ajuste mínimo na população em cada iteração."
      ],
      "metadata": {
        "id": "u9Dwyfq_zjHp"
      }
    },
    {
      "cell_type": "code",
      "execution_count": 27,
      "metadata": {
        "trusted": true,
        "id": "4zReQHnDyigR",
        "outputId": "67f65af8-8d47-4f2a-9d81-cd040ac41873",
        "colab": {
          "base_uri": "https://localhost:8080/"
        }
      },
      "outputs": [
        {
          "output_type": "stream",
          "name": "stdout",
          "text": [
            "[0 1 1 0 1 1 1 0 0 1 0 1 1 1 0 0 1 0] 5\n"
          ]
        }
      ],
      "source": [
        "def evolve(P,S=S,n=200):\n",
        "    res = []\n",
        "    for _ in range(n):\n",
        "\n",
        "        f = min([fitness(b) for b in P])\n",
        "        res.append(f)\n",
        "        if f==0:\n",
        "            break\n",
        "        if random.randint(1,10)<3:\n",
        "            i = random.randint(0,len(P)-1)\n",
        "            b = mutate(P[i])\n",
        "            i = np.argmax([fitness(z) for z in P])\n",
        "            P[i] = b\n",
        "        else:\n",
        "            i = random.randint(0,len(P)-1)\n",
        "            j = random.randint(0,len(P)-1)\n",
        "            b = xover(P[i],P[j])\n",
        "            if fitness(b)<fitness(P[i]):\n",
        "                P[i]=b\n",
        "            elif fitness(b)<fitness(P[j]):\n",
        "                P[j]=b\n",
        "            else:\n",
        "                pass\n",
        "    i = np.argmin([fitness(b) for b in P])\n",
        "    return (P[i],res)\n",
        "\n",
        "(s,hist) = evolve(P)\n",
        "print(s,fitness(s))"
      ]
    },
    {
      "cell_type": "markdown",
      "source": [
        "## Histórico"
      ],
      "metadata": {
        "id": "KTeplk9JCoSD"
      }
    },
    {
      "cell_type": "markdown",
      "source": [
        "Você pode ver que conseguimos minimizar a função de Fitness e, abaixo, pode ver como cada população se comporta durante o processo."
      ],
      "metadata": {
        "id": "hh70By6YzmEm"
      }
    },
    {
      "cell_type": "code",
      "execution_count": 28,
      "metadata": {
        "trusted": true,
        "id": "ohnbBpidyigS",
        "outputId": "87afb05a-5a5c-4ac9-a19c-a7a3b3231efa",
        "colab": {
          "base_uri": "https://localhost:8080/",
          "height": 430
        }
      },
      "outputs": [
        {
          "output_type": "display_data",
          "data": {
            "text/plain": [
              "<Figure size 640x480 with 1 Axes>"
            ],
            "image/png": "[encoded data removed]"
          },
          "metadata": {}
        }
      ],
      "source": [
        "plt.plot(hist)\n",
        "plt.show()"
      ]
    },
    {
      "cell_type": "markdown",
      "source": [
        "# **`PyGAD`**"
      ],
      "metadata": {
        "id": "MsdRrrxVDhYU"
      }
    },
    {
      "cell_type": "code",
      "source": [
        "!pip install pygad"
      ],
      "metadata": {
        "colab": {
          "base_uri": "https://localhost:8080/"
        },
        "id": "s__Bw6SYTohL",
        "outputId": "3024e036-7b02-4d0a-c2a2-c319bb580d3d"
      },
      "execution_count": 33,
      "outputs": [
        {
          "output_type": "stream",
          "name": "stdout",
          "text": [
            "Collecting pygad\n",
            "  Downloading pygad-3.4.0-py3-none-any.whl.metadata (23 kB)\n",
            "Requirement already satisfied: cloudpickle in /usr/local/lib/python3.11/dist-packages (from pygad) (3.1.1)\n",
            "Requirement already satisfied: matplotlib in /usr/local/lib/python3.11/dist-packages (from pygad) (3.10.0)\n",
            "Requirement already satisfied: numpy in /usr/local/lib/python3.11/dist-packages (from pygad) (2.0.2)\n",
            "Requirement already satisfied: contourpy>=1.0.1 in /usr/local/lib/python3.11/dist-packages (from matplotlib->pygad) (1.3.1)\n",
            "Requirement already satisfied: cycler>=0.10 in /usr/local/lib/python3.11/dist-packages (from matplotlib->pygad) (0.12.1)\n",
            "Requirement already satisfied: fonttools>=4.22.0 in /usr/local/lib/python3.11/dist-packages (from matplotlib->pygad) (4.56.0)\n",
            "Requirement already satisfied: kiwisolver>=1.3.1 in /usr/local/lib/python3.11/dist-packages (from matplotlib->pygad) (1.4.8)\n",
            "Requirement already satisfied: packaging>=20.0 in /usr/local/lib/python3.11/dist-packages (from matplotlib->pygad) (24.2)\n",
            "Requirement already satisfied: pillow>=8 in /usr/local/lib/python3.11/dist-packages (from matplotlib->pygad) (11.1.0)\n",
            "Requirement already satisfied: pyparsing>=2.3.1 in /usr/local/lib/python3.11/dist-packages (from matplotlib->pygad) (3.2.1)\n",
            "Requirement already satisfied: python-dateutil>=2.7 in /usr/local/lib/python3.11/dist-packages (from matplotlib->pygad) (2.8.2)\n",
            "Requirement already satisfied: six>=1.5 in /usr/local/lib/python3.11/dist-packages (from python-dateutil>=2.7->matplotlib->pygad) (1.17.0)\n",
            "Downloading pygad-3.4.0-py3-none-any.whl (86 kB)\n",
            "\u001b[2K   \u001b[90m━━━━━━━━━━━━━━━━━━━━━━━━━━━━━━━━━━━━━━━━\u001b[0m \u001b[32m86.8/86.8 kB\u001b[0m \u001b[31m4.5 MB/s\u001b[0m eta \u001b[36m0:00:00\u001b[0m\n",
            "\u001b[?25hInstalling collected packages: pygad\n",
            "Successfully installed pygad-3.4.0\n"
          ]
        }
      ]
    },
    {
      "cell_type": "markdown",
      "source": [
        "## Otimizando uma Função Linear"
      ],
      "metadata": {
        "id": "1PtQAEtdDwo7"
      }
    },
    {
      "cell_type": "code",
      "execution_count": null,
      "metadata": {
        "colab": {
          "base_uri": "https://localhost:8080/",
          "height": 1000
        },
        "id": "j4qPmySETmI_",
        "outputId": "e3e2ca1f-f313-40c2-9840-250685726cb4"
      },
      "outputs": [
        {
          "output_type": "stream",
          "name": "stderr",
          "text": [
            "/usr/local/lib/python3.11/dist-packages/pygad/pygad.py:724: UserWarning: The percentage of genes to mutate (mutation_percent_genes=10) resulted in selecting (0) genes. The number of genes to mutate is set to 1 (mutation_num_genes=1).\n",
            "If you do not want to mutate any gene, please set mutation_type=None.\n",
            "  warnings.warn(\n",
            "/usr/local/lib/python3.11/dist-packages/pygad/visualize/plot.py:120: UserWarning: No artists with labels found to put in legend.  Note that artists whose label start with an underscore are ignored when legend() is called with no argument.\n",
            "  matplt.legend()\n"
          ]
        },
        {
          "output_type": "stream",
          "name": "stdout",
          "text": [
            "Generation = 1\n",
            "Fitness    = 0.2036435746342095\n",
            "Change     = 0.2036435746342095\n",
            "Generation = 2\n",
            "Fitness    = 1.2645499438167829\n",
            "Change     = 1.0609063691825733\n",
            "Generation = 3\n",
            "Fitness    = 9.838732002576041\n",
            "Change     = 8.574182058759257\n",
            "Generation = 4\n",
            "Fitness    = 9.838732002576041\n",
            "Change     = 0.0\n",
            "Generation = 5\n",
            "Fitness    = 27.4039324755486\n",
            "Change     = 17.56520047297256\n",
            "Generation = 6\n",
            "Fitness    = 46.449214433293385\n",
            "Change     = 19.045281957744784\n",
            "Generation = 7\n",
            "Fitness    = 63.8487031800491\n",
            "Change     = 17.399488746755715\n",
            "Generation = 8\n",
            "Fitness    = 63.8487031800491\n",
            "Change     = 0.0\n",
            "Generation = 9\n",
            "Fitness    = 63.8487031800491\n",
            "Change     = 0.0\n",
            "Generation = 10\n",
            "Fitness    = 63.8487031800491\n",
            "Change     = 0.0\n",
            "Generation = 11\n",
            "Fitness    = 63.8487031800491\n",
            "Change     = 0.0\n",
            "Generation = 12\n",
            "Fitness    = 63.8487031800491\n",
            "Change     = 0.0\n",
            "Generation = 13\n",
            "Fitness    = 63.8487031800491\n",
            "Change     = 0.0\n",
            "Generation = 14\n",
            "Fitness    = 63.8487031800491\n",
            "Change     = 0.0\n",
            "Generation = 15\n",
            "Fitness    = 63.8487031800491\n",
            "Change     = 0.0\n",
            "Generation = 16\n",
            "Fitness    = 63.8487031800491\n",
            "Change     = 0.0\n",
            "Generation = 17\n",
            "Fitness    = 91.26585181518557\n",
            "Change     = 27.41714863513647\n",
            "Generation = 18\n",
            "Fitness    = 91.26585181518557\n",
            "Change     = 0.0\n",
            "Generation = 19\n",
            "Fitness    = 91.26585181518557\n",
            "Change     = 0.0\n",
            "Generation = 20\n",
            "Fitness    = 91.26585181518557\n",
            "Change     = 0.0\n",
            "Generation = 21\n",
            "Fitness    = 91.26585181518557\n",
            "Change     = 0.0\n",
            "Generation = 22\n",
            "Fitness    = 91.26585181518557\n",
            "Change     = 0.0\n",
            "Generation = 23\n",
            "Fitness    = 91.26585181518557\n",
            "Change     = 0.0\n",
            "Generation = 24\n",
            "Fitness    = 91.26585181518557\n",
            "Change     = 0.0\n",
            "Generation = 25\n",
            "Fitness    = 91.26585181518557\n",
            "Change     = 0.0\n",
            "Generation = 26\n",
            "Fitness    = 91.26585181518557\n",
            "Change     = 0.0\n",
            "Generation = 27\n",
            "Fitness    = 91.26585181518557\n",
            "Change     = 0.0\n",
            "Generation = 28\n",
            "Fitness    = 91.26585181518557\n",
            "Change     = 0.0\n",
            "Generation = 29\n",
            "Fitness    = 91.26585181518557\n",
            "Change     = 0.0\n",
            "Generation = 30\n",
            "Fitness    = 91.26585181518557\n",
            "Change     = 0.0\n",
            "Generation = 31\n",
            "Fitness    = 91.26585181518557\n",
            "Change     = 0.0\n",
            "Generation = 32\n",
            "Fitness    = 91.26585181518557\n",
            "Change     = 0.0\n",
            "Generation = 33\n",
            "Fitness    = 91.26585181518557\n",
            "Change     = 0.0\n",
            "Generation = 34\n",
            "Fitness    = 91.26585181518557\n",
            "Change     = 0.0\n",
            "Generation = 35\n",
            "Fitness    = 91.26585181518557\n",
            "Change     = 0.0\n",
            "Generation = 36\n",
            "Fitness    = 91.26585181518557\n",
            "Change     = 0.0\n",
            "Generation = 37\n",
            "Fitness    = 91.26585181518557\n",
            "Change     = 0.0\n",
            "Generation = 38\n",
            "Fitness    = 91.26585181518557\n",
            "Change     = 0.0\n",
            "Generation = 39\n",
            "Fitness    = 91.26585181518557\n",
            "Change     = 0.0\n",
            "Generation = 40\n",
            "Fitness    = 123.1925372569591\n",
            "Change     = 31.92668544177353\n",
            "Generation = 41\n",
            "Fitness    = 123.1925372569591\n",
            "Change     = 0.0\n",
            "Generation = 42\n",
            "Fitness    = 123.1925372569591\n",
            "Change     = 0.0\n",
            "Generation = 43\n",
            "Fitness    = 123.1925372569591\n",
            "Change     = 0.0\n",
            "Generation = 44\n",
            "Fitness    = 123.1925372569591\n",
            "Change     = 0.0\n",
            "Generation = 45\n",
            "Fitness    = 123.1925372569591\n",
            "Change     = 0.0\n",
            "Generation = 46\n",
            "Fitness    = 123.1925372569591\n",
            "Change     = 0.0\n",
            "Generation = 47\n",
            "Fitness    = 123.1925372569591\n",
            "Change     = 0.0\n",
            "Generation = 48\n",
            "Fitness    = 123.1925372569591\n",
            "Change     = 0.0\n",
            "Generation = 49\n",
            "Fitness    = 123.1925372569591\n",
            "Change     = 0.0\n",
            "Generation = 50\n",
            "Fitness    = 123.1925372569591\n",
            "Change     = 0.0\n",
            "Generation = 51\n",
            "Fitness    = 123.1925372569591\n",
            "Change     = 0.0\n",
            "Generation = 52\n",
            "Fitness    = 273.38842598188336\n",
            "Change     = 150.19588872492426\n",
            "Generation = 53\n",
            "Fitness    = 273.38842598188336\n",
            "Change     = 0.0\n",
            "Generation = 54\n",
            "Fitness    = 273.38842598188336\n",
            "Change     = 0.0\n",
            "Generation = 55\n",
            "Fitness    = 273.38842598188336\n",
            "Change     = 0.0\n",
            "Generation = 56\n",
            "Fitness    = 273.38842598188336\n",
            "Change     = 0.0\n",
            "Generation = 57\n",
            "Fitness    = 273.38842598188336\n",
            "Change     = 0.0\n",
            "Generation = 58\n",
            "Fitness    = 273.38842598188336\n",
            "Change     = 0.0\n",
            "Generation = 59\n",
            "Fitness    = 273.38842598188336\n",
            "Change     = 0.0\n",
            "Generation = 60\n",
            "Fitness    = 273.38842598188336\n",
            "Change     = 0.0\n",
            "Generation = 61\n",
            "Fitness    = 273.38842598188336\n",
            "Change     = 0.0\n",
            "Generation = 62\n",
            "Fitness    = 273.38842598188336\n",
            "Change     = 0.0\n",
            "Generation = 63\n",
            "Fitness    = 273.38842598188336\n",
            "Change     = 0.0\n",
            "Generation = 64\n",
            "Fitness    = 273.38842598188336\n",
            "Change     = 0.0\n",
            "Generation = 65\n",
            "Fitness    = 273.38842598188336\n",
            "Change     = 0.0\n",
            "Generation = 66\n",
            "Fitness    = 273.38842598188336\n",
            "Change     = 0.0\n",
            "Generation = 67\n",
            "Fitness    = 273.38842598188336\n",
            "Change     = 0.0\n",
            "Generation = 68\n",
            "Fitness    = 273.38842598188336\n",
            "Change     = 0.0\n",
            "Generation = 69\n",
            "Fitness    = 273.38842598188336\n",
            "Change     = 0.0\n",
            "Generation = 70\n",
            "Fitness    = 273.38842598188336\n",
            "Change     = 0.0\n",
            "Generation = 71\n",
            "Fitness    = 273.38842598188336\n",
            "Change     = 0.0\n",
            "Generation = 72\n",
            "Fitness    = 273.38842598188336\n",
            "Change     = 0.0\n",
            "Generation = 73\n",
            "Fitness    = 273.38842598188336\n",
            "Change     = 0.0\n",
            "Generation = 74\n",
            "Fitness    = 273.38842598188336\n",
            "Change     = 0.0\n",
            "Generation = 75\n",
            "Fitness    = 273.38842598188336\n",
            "Change     = 0.0\n",
            "Generation = 76\n",
            "Fitness    = 273.38842598188336\n",
            "Change     = 0.0\n",
            "Generation = 77\n",
            "Fitness    = 273.38842598188336\n",
            "Change     = 0.0\n",
            "Generation = 78\n",
            "Fitness    = 273.38842598188336\n",
            "Change     = 0.0\n",
            "Generation = 79\n",
            "Fitness    = 273.38842598188336\n",
            "Change     = 0.0\n",
            "Generation = 80\n",
            "Fitness    = 273.38842598188336\n",
            "Change     = 0.0\n",
            "Generation = 81\n",
            "Fitness    = 273.38842598188336\n",
            "Change     = 0.0\n",
            "Generation = 82\n",
            "Fitness    = 273.38842598188336\n",
            "Change     = 0.0\n",
            "Generation = 83\n",
            "Fitness    = 273.38842598188336\n",
            "Change     = 0.0\n",
            "Generation = 84\n",
            "Fitness    = 273.38842598188336\n",
            "Change     = 0.0\n",
            "Generation = 85\n",
            "Fitness    = 273.38842598188336\n",
            "Change     = 0.0\n",
            "Generation = 86\n",
            "Fitness    = 273.38842598188336\n",
            "Change     = 0.0\n",
            "Generation = 87\n",
            "Fitness    = 273.38842598188336\n",
            "Change     = 0.0\n",
            "Generation = 88\n",
            "Fitness    = 273.38842598188336\n",
            "Change     = 0.0\n",
            "Generation = 89\n",
            "Fitness    = 273.38842598188336\n",
            "Change     = 0.0\n",
            "Generation = 90\n",
            "Fitness    = 273.38842598188336\n",
            "Change     = 0.0\n",
            "Generation = 91\n",
            "Fitness    = 273.38842598188336\n",
            "Change     = 0.0\n",
            "Generation = 92\n",
            "Fitness    = 273.38842598188336\n",
            "Change     = 0.0\n",
            "Generation = 93\n",
            "Fitness    = 273.38842598188336\n",
            "Change     = 0.0\n",
            "Generation = 94\n",
            "Fitness    = 273.38842598188336\n",
            "Change     = 0.0\n",
            "Generation = 95\n",
            "Fitness    = 273.38842598188336\n",
            "Change     = 0.0\n",
            "Generation = 96\n",
            "Fitness    = 273.38842598188336\n",
            "Change     = 0.0\n",
            "Generation = 97\n",
            "Fitness    = 273.38842598188336\n",
            "Change     = 0.0\n",
            "Generation = 98\n",
            "Fitness    = 273.38842598188336\n",
            "Change     = 0.0\n",
            "Generation = 99\n",
            "Fitness    = 273.38842598188336\n",
            "Change     = 0.0\n",
            "Generation = 100\n",
            "Fitness    = 273.38842598188336\n",
            "Change     = 0.0\n"
          ]
        },
        {
          "output_type": "display_data",
          "data": {
            "text/plain": [
              "<Figure size 640x480 with 1 Axes>"
            ],
            "image/png": "[encoded data removed]"
          },
          "metadata": {}
        },
        {
          "output_type": "stream",
          "name": "stdout",
          "text": [
            "Parameters of the best solution : [ 2.7652844   6.44575941  5.5109065   1.46860399 -1.52217684 -0.52317022]\n",
            "Fitness value of the best solution = 273.38842598188336\n",
            "Index of the best solution : 0\n",
            "Predicted output based on the best solution : 44.00365679932493\n",
            "Best fitness value reached after 52 generations.\n"
          ]
        },
        {
          "output_type": "display_data",
          "data": {
            "text/plain": [
              "<Figure size 640x480 with 1 Axes>"
            ],
            "image/png": "[encoded data removed]"
          },
          "metadata": {}
        },
        {
          "output_type": "execute_result",
          "data": {
            "text/plain": [
              "<Figure size 640x480 with 1 Axes>"
            ],
            "image/png": "[encoded data removed]"
          },
          "metadata": {},
          "execution_count": 2
        }
      ],
      "source": [
        "import pygad\n",
        "import numpy\n",
        "\n",
        "\"\"\"\n",
        "Given the following function:\n",
        "    y = f(w1:w6) = w1x1 + w2x2 + w3x3 + w4x4 + w5x5 + 6wx6\n",
        "    where (x1,x2,x3,x4,x5,x6)=(4,-2,3.5,5,-11,-4.7) and y=44\n",
        "What are the best values for the 6 weights (w1 to w6)? We are going to use the genetic algorithm to optimize this function.\n",
        "\"\"\"\n",
        "\n",
        "function_inputs = [4,-2,3.5,5,-11,-4.7] # Function inputs.\n",
        "desired_output = 44 # Function output.\n",
        "\n",
        "def fitness_func(ga_instance, solution, solution_idx):\n",
        "    output = numpy.sum(solution*function_inputs)\n",
        "    fitness = 1.0 / (numpy.abs(output - desired_output) + 0.000001)\n",
        "    return fitness\n",
        "\n",
        "num_generations = 100 # Number of generations.\n",
        "num_parents_mating = 10 # Number of solutions to be selected as parents in the mating pool.\n",
        "\n",
        "sol_per_pop = 20 # Number of solutions in the population.\n",
        "num_genes = len(function_inputs)\n",
        "\n",
        "last_fitness = 0\n",
        "def on_generation(ga_instance):\n",
        "    global last_fitness\n",
        "    print(f\"Generation = {ga_instance.generations_completed}\")\n",
        "    print(f\"Fitness    = {ga_instance.best_solution(pop_fitness=ga_instance.last_generation_fitness)[1]}\")\n",
        "    print(f\"Change     = {ga_instance.best_solution(pop_fitness=ga_instance.last_generation_fitness)[1] - last_fitness}\")\n",
        "    last_fitness = ga_instance.best_solution(pop_fitness=ga_instance.last_generation_fitness)[1]\n",
        "\n",
        "ga_instance = pygad.GA(num_generations=num_generations,\n",
        "                       num_parents_mating=num_parents_mating,\n",
        "                       sol_per_pop=sol_per_pop,\n",
        "                       num_genes=num_genes,\n",
        "                       fitness_func=fitness_func,\n",
        "                       on_generation=on_generation)\n",
        "\n",
        "# Running the GA to optimize the parameters of the function.\n",
        "ga_instance.run()\n",
        "\n",
        "ga_instance.plot_fitness()\n",
        "\n",
        "# Returning the details of the best solution.\n",
        "solution, solution_fitness, solution_idx = ga_instance.best_solution(ga_instance.last_generation_fitness)\n",
        "print(f\"Parameters of the best solution : {solution}\")\n",
        "print(f\"Fitness value of the best solution = {solution_fitness}\")\n",
        "print(f\"Index of the best solution : {solution_idx}\")\n",
        "\n",
        "prediction = numpy.sum(numpy.array(function_inputs)*solution)\n",
        "print(f\"Predicted output based on the best solution : {prediction}\")\n",
        "\n",
        "if ga_instance.best_solution_generation != -1:\n",
        "    print(f\"Best fitness value reached after {ga_instance.best_solution_generation} generations.\")\n",
        "\n",
        "# Saving the GA instance.\n",
        "filename = 'genetic' # The filename to which the instance is saved. The name is without extension.\n",
        "ga_instance.save(filename=filename)\n",
        "\n",
        "# Loading the saved GA instance.\n",
        "loaded_ga_instance = pygad.load(filename=filename)\n",
        "loaded_ga_instance.plot_fitness()"
      ]
    },
    {
      "cell_type": "markdown",
      "source": [
        "## Otimizando uma Função não Linear\n",
        "\n",
        "$$ f(x,y) = 4 x^2 - 2 y^2 = 1$$"
      ],
      "metadata": {
        "id": "NTOffURYD83F"
      }
    },
    {
      "cell_type": "code",
      "execution_count": 40,
      "metadata": {
        "colab": {
          "base_uri": "https://localhost:8080/",
          "height": 1000
        },
        "outputId": "18d3c72c-ba78-43d8-bebc-6ac29730a6ce",
        "id": "WLjNacYtT82g"
      },
      "outputs": [
        {
          "output_type": "stream",
          "name": "stdout",
          "text": [
            "Generation = 1\n",
            "Fitness    = 9.873294767934635\n",
            "Change     = 9.873294767934635\n",
            "Generation = 2\n",
            "Fitness    = 16.569814682515574\n",
            "Change     = 6.696519914580939\n",
            "Generation = 3\n",
            "Fitness    = 16.569814682515574\n",
            "Change     = 0.0\n",
            "Generation = 4\n",
            "Fitness    = 16.569814682515574\n",
            "Change     = 0.0\n",
            "Generation = 5\n",
            "Fitness    = 534.8117560597024\n",
            "Change     = 518.2419413771868\n",
            "Generation = 6\n",
            "Fitness    = 534.8117560597024\n",
            "Change     = 0.0\n",
            "Generation = 7\n",
            "Fitness    = 534.8117560597024\n",
            "Change     = 0.0\n",
            "Generation = 8\n",
            "Fitness    = 534.8117560597024\n",
            "Change     = 0.0\n",
            "Generation = 9\n",
            "Fitness    = 534.8117560597024\n",
            "Change     = 0.0\n",
            "Generation = 10\n",
            "Fitness    = 534.8117560597024\n",
            "Change     = 0.0\n",
            "Generation = 11\n",
            "Fitness    = 534.8117560597024\n",
            "Change     = 0.0\n",
            "Generation = 12\n",
            "Fitness    = 534.8117560597024\n",
            "Change     = 0.0\n",
            "Generation = 13\n",
            "Fitness    = 534.8117560597024\n",
            "Change     = 0.0\n",
            "Generation = 14\n",
            "Fitness    = 534.8117560597024\n",
            "Change     = 0.0\n",
            "Generation = 15\n",
            "Fitness    = 534.8117560597024\n",
            "Change     = 0.0\n",
            "Generation = 16\n",
            "Fitness    = 534.8117560597024\n",
            "Change     = 0.0\n",
            "Generation = 17\n",
            "Fitness    = 534.8117560597024\n",
            "Change     = 0.0\n",
            "Generation = 18\n",
            "Fitness    = 534.8117560597024\n",
            "Change     = 0.0\n",
            "Generation = 19\n",
            "Fitness    = 534.8117560597024\n",
            "Change     = 0.0\n",
            "Generation = 20\n",
            "Fitness    = 534.8117560597024\n",
            "Change     = 0.0\n",
            "Generation = 21\n",
            "Fitness    = 534.8117560597024\n",
            "Change     = 0.0\n",
            "Generation = 22\n",
            "Fitness    = 534.8117560597024\n",
            "Change     = 0.0\n",
            "Generation = 23\n",
            "Fitness    = 534.8117560597024\n",
            "Change     = 0.0\n",
            "Generation = 24\n",
            "Fitness    = 534.8117560597024\n",
            "Change     = 0.0\n",
            "Generation = 25\n",
            "Fitness    = 534.8117560597024\n",
            "Change     = 0.0\n",
            "Generation = 26\n",
            "Fitness    = 534.8117560597024\n",
            "Change     = 0.0\n",
            "Generation = 27\n",
            "Fitness    = 10963.669422447987\n",
            "Change     = 10428.857666388285\n",
            "Generation = 28\n",
            "Fitness    = 10963.669422447987\n",
            "Change     = 0.0\n",
            "Generation = 29\n",
            "Fitness    = 10963.669422447987\n",
            "Change     = 0.0\n",
            "Generation = 30\n",
            "Fitness    = 10963.669422447987\n",
            "Change     = 0.0\n",
            "Generation = 31\n",
            "Fitness    = 10963.669422447987\n",
            "Change     = 0.0\n",
            "Generation = 32\n",
            "Fitness    = 10963.669422447987\n",
            "Change     = 0.0\n",
            "Generation = 33\n",
            "Fitness    = 10963.669422447987\n",
            "Change     = 0.0\n",
            "Generation = 34\n",
            "Fitness    = 10963.669422447987\n",
            "Change     = 0.0\n",
            "Generation = 35\n",
            "Fitness    = 10963.669422447987\n",
            "Change     = 0.0\n",
            "Generation = 36\n",
            "Fitness    = 10963.669422447987\n",
            "Change     = 0.0\n",
            "Generation = 37\n",
            "Fitness    = 10963.669422447987\n",
            "Change     = 0.0\n",
            "Generation = 38\n",
            "Fitness    = 10963.669422447987\n",
            "Change     = 0.0\n",
            "Generation = 39\n",
            "Fitness    = 10963.669422447987\n",
            "Change     = 0.0\n",
            "Generation = 40\n",
            "Fitness    = 10963.669422447987\n",
            "Change     = 0.0\n",
            "Generation = 41\n",
            "Fitness    = 10963.669422447987\n",
            "Change     = 0.0\n",
            "Generation = 42\n",
            "Fitness    = 10963.669422447987\n",
            "Change     = 0.0\n",
            "Generation = 43\n",
            "Fitness    = 10963.669422447987\n",
            "Change     = 0.0\n",
            "Generation = 44\n",
            "Fitness    = 10963.669422447987\n",
            "Change     = 0.0\n",
            "Generation = 45\n",
            "Fitness    = 10963.669422447987\n",
            "Change     = 0.0\n",
            "Generation = 46\n",
            "Fitness    = 10963.669422447987\n",
            "Change     = 0.0\n",
            "Generation = 47\n",
            "Fitness    = 10963.669422447987\n",
            "Change     = 0.0\n",
            "Generation = 48\n",
            "Fitness    = 10963.669422447987\n",
            "Change     = 0.0\n",
            "Generation = 49\n",
            "Fitness    = 10963.669422447987\n",
            "Change     = 0.0\n",
            "Generation = 50\n",
            "Fitness    = 10963.669422447987\n",
            "Change     = 0.0\n",
            "Generation = 51\n",
            "Fitness    = 10963.669422447987\n",
            "Change     = 0.0\n",
            "Generation = 52\n",
            "Fitness    = 10963.669422447987\n",
            "Change     = 0.0\n",
            "Generation = 53\n",
            "Fitness    = 10963.669422447987\n",
            "Change     = 0.0\n",
            "Generation = 54\n",
            "Fitness    = 10963.669422447987\n",
            "Change     = 0.0\n",
            "Generation = 55\n",
            "Fitness    = 10963.669422447987\n",
            "Change     = 0.0\n",
            "Generation = 56\n",
            "Fitness    = 10963.669422447987\n",
            "Change     = 0.0\n",
            "Generation = 57\n",
            "Fitness    = 10963.669422447987\n",
            "Change     = 0.0\n",
            "Generation = 58\n",
            "Fitness    = 10963.669422447987\n",
            "Change     = 0.0\n",
            "Generation = 59\n",
            "Fitness    = 10963.669422447987\n",
            "Change     = 0.0\n",
            "Generation = 60\n",
            "Fitness    = 10963.669422447987\n",
            "Change     = 0.0\n",
            "Generation = 61\n",
            "Fitness    = 10963.669422447987\n",
            "Change     = 0.0\n",
            "Generation = 62\n",
            "Fitness    = 10963.669422447987\n",
            "Change     = 0.0\n",
            "Generation = 63\n",
            "Fitness    = 10963.669422447987\n",
            "Change     = 0.0\n",
            "Generation = 64\n",
            "Fitness    = 10963.669422447987\n",
            "Change     = 0.0\n",
            "Generation = 65\n",
            "Fitness    = 10963.669422447987\n",
            "Change     = 0.0\n",
            "Generation = 66\n",
            "Fitness    = 10963.669422447987\n",
            "Change     = 0.0\n",
            "Generation = 67\n",
            "Fitness    = 10963.669422447987\n",
            "Change     = 0.0\n",
            "Generation = 68\n",
            "Fitness    = 10963.669422447987\n",
            "Change     = 0.0\n",
            "Generation = 69\n",
            "Fitness    = 10963.669422447987\n",
            "Change     = 0.0\n",
            "Generation = 70\n",
            "Fitness    = 10963.669422447987\n",
            "Change     = 0.0\n",
            "Generation = 71\n",
            "Fitness    = 10963.669422447987\n",
            "Change     = 0.0\n",
            "Generation = 72\n",
            "Fitness    = 10963.669422447987\n",
            "Change     = 0.0\n",
            "Generation = 73\n",
            "Fitness    = 10963.669422447987\n",
            "Change     = 0.0\n",
            "Generation = 74\n",
            "Fitness    = 10963.669422447987\n",
            "Change     = 0.0\n",
            "Generation = 75\n",
            "Fitness    = 10963.669422447987\n",
            "Change     = 0.0\n",
            "Generation = 76\n",
            "Fitness    = 10963.669422447987\n",
            "Change     = 0.0\n",
            "Generation = 77\n",
            "Fitness    = 10963.669422447987\n",
            "Change     = 0.0\n",
            "Generation = 78\n",
            "Fitness    = 10963.669422447987\n",
            "Change     = 0.0\n",
            "Generation = 79\n",
            "Fitness    = 10963.669422447987\n",
            "Change     = 0.0\n",
            "Generation = 80\n",
            "Fitness    = 10963.669422447987\n",
            "Change     = 0.0\n",
            "Generation = 81\n",
            "Fitness    = 10963.669422447987\n",
            "Change     = 0.0\n",
            "Generation = 82\n",
            "Fitness    = 10963.669422447987\n",
            "Change     = 0.0\n",
            "Generation = 83\n",
            "Fitness    = 10963.669422447987\n",
            "Change     = 0.0\n",
            "Generation = 84\n",
            "Fitness    = 10963.669422447987\n",
            "Change     = 0.0\n",
            "Generation = 85\n",
            "Fitness    = 10963.669422447987\n",
            "Change     = 0.0\n",
            "Generation = 86\n",
            "Fitness    = 10963.669422447987\n",
            "Change     = 0.0\n",
            "Generation = 87\n",
            "Fitness    = 10963.669422447987\n",
            "Change     = 0.0\n",
            "Generation = 88\n",
            "Fitness    = 10963.669422447987\n",
            "Change     = 0.0\n",
            "Generation = 89\n",
            "Fitness    = 10963.669422447987\n",
            "Change     = 0.0\n",
            "Generation = 90\n",
            "Fitness    = 10963.669422447987\n",
            "Change     = 0.0\n",
            "Generation = 91\n",
            "Fitness    = 10963.669422447987\n",
            "Change     = 0.0\n",
            "Generation = 92\n",
            "Fitness    = 10963.669422447987\n",
            "Change     = 0.0\n",
            "Generation = 93\n",
            "Fitness    = 10963.669422447987\n",
            "Change     = 0.0\n",
            "Generation = 94\n",
            "Fitness    = 10963.669422447987\n",
            "Change     = 0.0\n",
            "Generation = 95\n",
            "Fitness    = 10963.669422447987\n",
            "Change     = 0.0\n",
            "Generation = 96\n",
            "Fitness    = 10963.669422447987\n",
            "Change     = 0.0\n",
            "Generation = 97\n",
            "Fitness    = 10963.669422447987\n",
            "Change     = 0.0\n",
            "Generation = 98\n",
            "Fitness    = 10963.669422447987\n",
            "Change     = 0.0\n",
            "Generation = 99\n",
            "Fitness    = 10963.669422447987\n",
            "Change     = 0.0\n",
            "Generation = 100\n",
            "Fitness    = 10963.669422447987\n",
            "Change     = 0.0\n"
          ]
        },
        {
          "output_type": "display_data",
          "data": {
            "text/plain": [
              "<Figure size 640x480 with 1 Axes>"
            ],
            "image/png": "[encoded data removed]"
          },
          "metadata": {}
        },
        {
          "output_type": "stream",
          "name": "stdout",
          "text": [
            "Parameters of the best solution : [-0.51650358 -0.18329485]\n",
            "Fitness value of the best solution = 10963.669422447987\n",
            "Index of the best solution : 0\n",
            "Predicted output based on the best solution : -1.6994246200965586\n",
            "Best fitness value reached after 27 generations.\n"
          ]
        },
        {
          "output_type": "display_data",
          "data": {
            "text/plain": [
              "<Figure size 640x480 with 1 Axes>"
            ],
            "image/png": "[encoded data removed]"
          },
          "metadata": {}
        },
        {
          "output_type": "execute_result",
          "data": {
            "text/plain": [
              "<Figure size 640x480 with 1 Axes>"
            ],
            "image/png": "[encoded data removed]"
          },
          "metadata": {},
          "execution_count": 40
        }
      ],
      "source": [
        "import pygad\n",
        "import numpy\n",
        "\n",
        "\"\"\"\n",
        "Given the following function:\n",
        "    y = f(w1:w2) = w1^2 x1 + w2^2 x2 where (x1,x2)=(4,-2) and y=1\n",
        "What are the best values for the 2 weights (w1 to w2)? We are going to use the genetic algorithm to optimize this function.\n",
        "\"\"\"\n",
        "\n",
        "function_inputs = [4,-2] # Function inputs.\n",
        "desired_output = 1 # Function output.\n",
        "\n",
        "def fitness_func(ga_instance, solution, solution_idx):\n",
        "    output = numpy.sum(np.power(solution,2)*function_inputs)\n",
        "    fitness = 1.0 / (numpy.abs(output - desired_output) + 0.000001)\n",
        "    return fitness\n",
        "\n",
        "num_generations = 100 # Number of generations.\n",
        "num_parents_mating = 10 # Number of solutions to be selected as parents in the mating pool.\n",
        "\n",
        "sol_per_pop = 20 # Number of solutions in the population.\n",
        "num_genes = len(function_inputs)\n",
        "\n",
        "last_fitness = 0\n",
        "def on_generation(ga_instance):\n",
        "    global last_fitness\n",
        "    print(f\"Generation = {ga_instance.generations_completed}\")\n",
        "    print(f\"Fitness    = {ga_instance.best_solution(pop_fitness=ga_instance.last_generation_fitness)[1]}\")\n",
        "    print(f\"Change     = {ga_instance.best_solution(pop_fitness=ga_instance.last_generation_fitness)[1] - last_fitness}\")\n",
        "    last_fitness = ga_instance.best_solution(pop_fitness=ga_instance.last_generation_fitness)[1]\n",
        "\n",
        "ga_instance = pygad.GA(num_generations=num_generations,\n",
        "                       num_parents_mating=num_parents_mating,\n",
        "                       sol_per_pop=sol_per_pop,\n",
        "                       num_genes=num_genes,\n",
        "                       fitness_func=fitness_func,\n",
        "                       on_generation=on_generation)\n",
        "\n",
        "# Running the GA to optimize the parameters of the function.\n",
        "ga_instance.run()\n",
        "\n",
        "ga_instance.plot_fitness()\n",
        "\n",
        "# Returning the details of the best solution.\n",
        "solution, solution_fitness, solution_idx = ga_instance.best_solution(ga_instance.last_generation_fitness)\n",
        "print(f\"Parameters of the best solution : {solution}\")\n",
        "print(f\"Fitness value of the best solution = {solution_fitness}\")\n",
        "print(f\"Index of the best solution : {solution_idx}\")\n",
        "\n",
        "prediction = numpy.sum(numpy.array(function_inputs)*solution)\n",
        "print(f\"Predicted output based on the best solution : {prediction}\")\n",
        "\n",
        "if ga_instance.best_solution_generation != -1:\n",
        "    print(f\"Best fitness value reached after {ga_instance.best_solution_generation} generations.\")\n",
        "\n",
        "# Saving the GA instance.\n",
        "filename = 'genetic' # The filename to which the instance is saved. The name is without extension.\n",
        "ga_instance.save(filename=filename)\n",
        "\n",
        "# Loading the saved GA instance.\n",
        "loaded_ga_instance = pygad.load(filename=filename)\n",
        "loaded_ga_instance.plot_fitness()"
      ]
    },
    {
      "cell_type": "code",
      "source": [
        "solution = [-0.51650358 -0.18329485]\n",
        "\n",
        "numpy.sum(np.power(solution,2)*function_inputs)"
      ],
      "metadata": {
        "colab": {
          "base_uri": "https://localhost:8080/"
        },
        "id": "zPTtX0toVH2J",
        "outputId": "a3d8a44a-dd30-45a8-ba3e-8d51be7ce02b"
      },
      "execution_count": 41,
      "outputs": [
        {
          "output_type": "execute_result",
          "data": {
            "text/plain": [
              "np.float64(0.9794356852609297)"
            ]
          },
          "metadata": {},
          "execution_count": 41
        }
      ]
    },
    {
      "cell_type": "markdown",
      "source": [
        "# Exercício\n",
        "\n",
        "Atividade em grupo, máx 5 alunos. Escolha apenas 1 dentre os problemas abaixo para implementar.\n",
        "\n",
        "## Exercício A. Otimização multi-objetivo.\n",
        "\n",
        "Crie um cenário/problema multi-objetivo original, por exemplo otimização de rendimento e risco, ou maior número de empregados e menor remuneração etc., **descreva esse seu cenário/problema**, e em seguida siga o exemplo https://pygad.readthedocs.io/en/latest/pygad.html#linear-model-optimization-single-objective para implementar a sua solução com o pacote PyGAD. Discuta os seus resultados.\n",
        "\n",
        "## Exercício B. Forca.\n",
        "\n",
        "Implemente um algoritmo genético *by scratch* ou empregue o PyGDA para solucionar o jogo [Forca](https://pt.wikipedia.org/wiki/Jogo_da_forca). Em ambos os casos descreva a solução criada.\n",
        "\n",
        "## **Entrega**\n",
        "\n",
        "- **02.04** Entrega única\n",
        "\n",
        "\n",
        "\n"
      ],
      "metadata": {
        "id": "1T0BjUBP3q0i"
      }
    }
  ]
}