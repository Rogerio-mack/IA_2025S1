{
  "nbformat": 4,
  "nbformat_minor": 0,
  "metadata": {
    "colab": {
      "provenance": [],
      "authorship_tag": "ABX9TyN+m+SlVl2oHJnT9DpxEBVm",
      "include_colab_link": true
    },
    "kernelspec": {
      "name": "python3",
      "display_name": "Python 3"
    },
    "language_info": {
      "name": "python"
    }
  },
  "cells": [
    {
      "cell_type": "markdown",
      "metadata": {
        "id": "view-in-github",
        "colab_type": "text"
      },
      "source": [
        "<a href=\"https://colab.research.google.com/github/Rogerio-mack/IA_2025S1/blob/main/Search_Algorithms.ipynb\" target=\"_parent\"><img src=\"https://colab.research.google.com/assets/colab-badge.svg\" alt=\"Open In Colab\"/></a>"
      ]
    },
    {
      "cell_type": "markdown",
      "source": [
        "# **Algoritmos de Busca, *Search Algorithms***"
      ],
      "metadata": {
        "id": "bVQ9UrI_mZXM"
      }
    },
    {
      "cell_type": "markdown",
      "source": [
        "\n",
        "Russell, S., Norvig, P., & Intelligence, A. (1995). A modern approach. Artificial Intelligence. Prentice-Hall, Egnlewood Cliffs, 25(27), 79-80. https://aima.cs.berkeley.edu/\n"
      ],
      "metadata": {
        "id": "AZCo-_PlFmlC"
      }
    },
    {
      "cell_type": "markdown",
      "source": [
        "Os **algoritmos de busca** em Inteligência Artificial (IA) são métodos utilizados para explorar um espaço de estados, que é uma representação das possíveis configurações ou situações que podem ser alcançadas a partir de um estado inicial. O objetivo desses algoritmos é encontrar, \"buscar\", uma **solução** atendendo a um determinado critério, como um caminho entre dois pontos ou vencer um jogo de tabuleiro.\n",
        "\n",
        "- **Espaço de Estado**: É o conjunto de todos os estados possíveis que podem ser alcançados a partir do estado inicial. Em geral, pode ser representado como um nó em um grafo, onde as arestas representam as transições ou ações possíveis entre os estados. Em geral há um estado inicial e uma estado final.\n",
        "\n",
        "- **Solução**: A solução pode ser um estado final desejado ou o caminho de estados que leva a esse resultado.\n",
        "\n"
      ],
      "metadata": {
        "id": "SxuY3qEhmwPl"
      }
    },
    {
      "cell_type": "markdown",
      "source": [
        "### Exemplos de Espaços de Estado\n",
        "\n",
        "\n",
        "![imagem](https://github.com/Rogerio-mack/IA_2025S1/blob/main/figures/tic-tac-toe.png?raw=true)\n",
        "![imagem](https://github.com/Rogerio-mack/IA_2025S1/blob/main/figures/sudoku.png?raw=true)\n"
      ],
      "metadata": {
        "id": "Sx3YGf7kBhPB"
      }
    },
    {
      "cell_type": "markdown",
      "source": [
        "## Exemplos de Aplicação\n",
        "\n",
        "- **Jogos**: Caminhos em jogos de tabuleiro (xadrez, gamão etc.), labirintos e outros jogos\n",
        "- **Rotas**: Algoritmos de busca para encontrar rotas entre cidades, locais, problemas logísticos de menor caminho e menor custo etc.\n",
        "- **Sistemas de Recomendação**: pesquisa em espaços de estados para recomendação de produtos\n",
        "- **Robótica**: ou agentes para decisões de ação em espaços discretos de estados.\n",
        "- **Grafos**: Detecção de ciclo\t(DFS) ou classificação topológica ordenando os nós em termos de dependências.\n",
        "\n"
      ],
      "metadata": {
        "id": "IsixuCZItIN1"
      }
    },
    {
      "cell_type": "markdown",
      "source": [
        "### Espaços de Estados simples de um Robô Aspirador\n",
        "\n",
        "<p align=\"right\">\n",
        "  <img src=\"https://github.com/Rogerio-mack/IA_2025S1/blob/main/figures/vaccum_world.png?raw=true\" width=\"60%\" align=\"left\"/>\n",
        "</p>\n",
        "\n"
      ],
      "metadata": {
        "id": "aQFGfXjpFX6k"
      }
    },
    {
      "cell_type": "markdown",
      "source": [
        "## Tipos de Algoritmos de Busca\n",
        "\n",
        "Os algoritmos de busca são classificados em duas categorias principais:\n",
        "\n",
        "1. **Busca Não Informada**:\n",
        "   - Esses algoritmos não utilizam informações adicionais sobre o espaço de estado além da estrutura básica do problema.\n",
        "\n",
        "     - Busca em Largura (Breadth-First Search - BFS)\n",
        "     - Busca em Profundidade (Depth-First Search - DFS)\n",
        "\n",
        "2. **Busca Informada**:\n",
        "   - Esses algoritmos utilizam heurísticas, que são estimativas do custo de alcançar a solução, para guiar a busca de forma mais eficiente.\n",
        "\n",
        "     - Busca Gulosa (Greedy Search)\n",
        "     - Algoritmo de Dijkstra (versão padrão)\n",
        "     - Algoritmo A* (A-star)\n",
        "\n"
      ],
      "metadata": {
        "id": "kuRs_GnCsgcy"
      }
    },
    {
      "cell_type": "markdown",
      "source": [
        "# Busca não Informada\n",
        "\n",
        "Os algoritmos mais empregados são a Busca em Largura (Breadth-First Search - BFS) e a Busca em Profundidade (Depth-First Search - DFS)."
      ],
      "metadata": {
        "id": "bGKY-S39vdhs"
      }
    },
    {
      "cell_type": "markdown",
      "source": [
        "![imagem](https://github.com/Rogerio-mack/IA_2025S1/blob/main/figures/dfs-bfs-codingsec.gif?raw=true)"
      ],
      "metadata": {
        "id": "_bjOGS9o-rIT"
      }
    },
    {
      "cell_type": "markdown",
      "source": [
        "\n",
        "\n",
        "<p>\n",
        "  <img src=\"https://github.com/Rogerio-mack/IA_2025S1/blob/main/figures/bfs.gif?raw=true\" width=\"30%\" align=\"left\"/>\n",
        "  <img src=\"https://github.com/Rogerio-mack/IA_2025S1/blob/main/figures/dfs.gif?raw=true\" width=\"30%\" align=\"right\"/>\n",
        "</p>"
      ],
      "metadata": {
        "id": "nJyz-G0fDT7T"
      }
    },
    {
      "cell_type": "markdown",
      "source": [
        "## Busca em Profundidade (Depth-First Search - DFS)"
      ],
      "metadata": {
        "id": "1x1iXKkDvwWF"
      }
    },
    {
      "cell_type": "code",
      "source": [
        "import networkx as nx\n",
        "import matplotlib.pyplot as plt\n",
        "\n",
        "def plottree(tree):\n",
        "  G = nx.DiGraph()\n",
        "\n",
        "  # Adicionando nós e arestas da árvore ao gráfico\n",
        "  for parent, children in tree.items():\n",
        "      for child in children:\n",
        "          G.add_edge(parent, child)\n",
        "\n",
        "  # Desenhando o gráfico\n",
        "  pos = nx.bfs_layout(G,'A',align='horizontal')\n",
        "  # pos = nx.spring_layout(G)  # Ou use outra disposição, como nx.shell_layout(G)\n",
        "\n",
        "  nx.draw(G, pos, with_labels=True, arrows=True, node_size=2000, node_color='lightblue', font_size=10, font_weight='bold')\n",
        "  plt.show()\n",
        "\n",
        "  return"
      ],
      "metadata": {
        "id": "5xkMTtE51JXe"
      },
      "execution_count": null,
      "outputs": []
    },
    {
      "cell_type": "code",
      "source": [
        "# Recursive DFS function\n",
        "path = [];\n",
        "\n",
        "def dfs_recursive(tree, node, visited=None):\n",
        "    if visited is None:\n",
        "        visited = set()  # Initialize the visited set\n",
        "    visited.add(node)    # Mark the node as visited\n",
        "    path.append(node)\n",
        "    for child in tree[node]:  # Recursively visit children\n",
        "        if child not in visited:\n",
        "            dfs_recursive(tree, child, visited)\n",
        "\n"
      ],
      "metadata": {
        "id": "hgdmQCc1yyW1"
      },
      "execution_count": null,
      "outputs": []
    },
    {
      "cell_type": "code",
      "source": [
        "# Iterative DFS function\n",
        "path = [];\n",
        "\n",
        "def dfs_iterative(tree, start):\n",
        "    visited = set()  # Track visited nodes\n",
        "    stack = [start]  # Stack for DFS\n",
        "\n",
        "    while stack:  # Continue until stack is empty\n",
        "        node = stack.pop()  # Pop a node from the stack\n",
        "        if node not in visited:\n",
        "            visited.add(node)  # Mark node as visited\n",
        "            path.append(node)\n",
        "            stack.extend(reversed(tree[node]))  # Add child nodes to stack\n",
        "\n"
      ],
      "metadata": {
        "id": "fNmDC4dtzdXp"
      },
      "execution_count": null,
      "outputs": []
    },
    {
      "cell_type": "code",
      "source": [
        "from collections import deque  # Import deque for efficient queue operations\n",
        "\n",
        "# Define the BFS function\n",
        "def bfs(tree, start):\n",
        "    visited = []  # List to keep track of visited nodes\n",
        "    queue = deque([start])  # Initialize the queue with the starting node\n",
        "\n",
        "    while queue:  # While there are still nodes to process\n",
        "        node = queue.popleft()  # Dequeue a node from the front of the queue\n",
        "\n",
        "        if node not in visited:  # Check if the node has been visited\n",
        "            visited.append(node)  # Mark the node as visited\n",
        "            path.append(node)\n",
        "            # print(node, end=\" \")  # Output the visited node\n",
        "\n",
        "            # Enqueue all unvisited neighbors (children) of the current node\n",
        "            for neighbor in tree[node]:\n",
        "                if neighbor not in visited:\n",
        "                    queue.append(neighbor)  # Add unvisited neighbors to the queue"
      ],
      "metadata": {
        "id": "2Cq7_fRh6fLa"
      },
      "execution_count": null,
      "outputs": []
    },
    {
      "cell_type": "code",
      "execution_count": null,
      "metadata": {
        "colab": {
          "base_uri": "https://localhost:8080/",
          "height": 533
        },
        "id": "bRGcoVqNyhKA",
        "outputId": "9ce72477-feb1-4ff2-9d28-17f98d88c99a"
      },
      "outputs": [
        {
          "output_type": "display_data",
          "data": {
            "text/plain": [
              "<Figure size 640x480 with 1 Axes>"
            ],
            "image/png": "[encoded data removed]"
          },
          "metadata": {}
        },
        {
          "output_type": "stream",
          "name": "stdout",
          "text": [
            "['A', 'B', 'D', 'H', 'I', 'E', 'J', 'K', 'C', 'F', 'L', 'M', 'G', 'N', 'O']\n"
          ]
        }
      ],
      "source": [
        "# tree\n",
        "tree = {\n",
        "    'A': ['B', 'C'],\n",
        "    'B': ['D', 'E'],\n",
        "    'C': ['F', 'G'],\n",
        "    'D': ['H', 'I'],\n",
        "    'E': ['J', 'K'],\n",
        "    'F': ['L', 'M'],\n",
        "    'G': ['N', 'O'],\n",
        "    'H': [], 'I': [], 'J': [], 'K': [],\n",
        "    'L': [], 'M': [], 'N': [], 'O': []\n",
        "}\n",
        "\n",
        "plottree(tree)\n",
        "\n",
        "# Run DFS starting from node 'A'\n",
        "path = []\n",
        "\n",
        "dfs_recursive(tree, 'A')\n",
        "\n",
        "print(path)"
      ]
    },
    {
      "cell_type": "code",
      "source": [
        "# Run DFS starting from node 'A'\n",
        "path = []\n",
        "\n",
        "dfs_iterative(tree, 'A')\n",
        "\n",
        "print(path)"
      ],
      "metadata": {
        "colab": {
          "base_uri": "https://localhost:8080/"
        },
        "id": "uuCEO3ig5Blk",
        "outputId": "ac2bb23d-5e8a-4d13-f58d-c0abe226d11f"
      },
      "execution_count": null,
      "outputs": [
        {
          "output_type": "stream",
          "name": "stdout",
          "text": [
            "['A', 'B', 'D', 'H', 'I', 'E', 'J', 'K', 'C', 'F', 'L', 'M', 'G', 'N', 'O']\n"
          ]
        }
      ]
    },
    {
      "cell_type": "code",
      "source": [
        "# tree\n",
        "\n",
        "tree = {\n",
        "    'A': ['B', 'C'],\n",
        "    'B': ['D', 'E'],\n",
        "    'C': ['F', 'G'],\n",
        "    'D': ['H', 'I'],\n",
        "    'E': ['J', 'K'],\n",
        "    'F': ['L', 'M', 'K'],\n",
        "    'G': [],\n",
        "    'H': [], 'I': [], 'J': [], 'K': [],\n",
        "    'L': [], 'M': [],\n",
        "    }\n",
        "\n",
        "plottree(tree)\n",
        "\n",
        "# Run DFS starting from node 'A'\n",
        "path = []\n",
        "\n",
        "dfs_recursive(tree, 'A')\n",
        "\n",
        "print(path)"
      ],
      "metadata": {
        "colab": {
          "base_uri": "https://localhost:8080/",
          "height": 533
        },
        "id": "dh8u364a3-9Y",
        "outputId": "23973ef0-26aa-4211-b0fc-cc08f38ae00d"
      },
      "execution_count": null,
      "outputs": [
        {
          "output_type": "display_data",
          "data": {
            "text/plain": [
              "<Figure size 640x480 with 1 Axes>"
            ],
            "image/png": "[encoded data removed]"
          },
          "metadata": {}
        },
        {
          "output_type": "stream",
          "name": "stdout",
          "text": [
            "['A', 'B', 'D', 'H', 'I', 'E', 'J', 'K', 'C', 'F', 'L', 'M', 'G']\n"
          ]
        }
      ]
    },
    {
      "cell_type": "markdown",
      "source": [
        "## Busca em Largura (Breadth-First Search - BFS)"
      ],
      "metadata": {
        "id": "ubEmEB35wHU7"
      }
    },
    {
      "cell_type": "code",
      "source": [
        "# Run BFS starting from node 'A'\n",
        "path = []\n",
        "\n",
        "bfs(tree, 'A')\n",
        "\n",
        "print(path)"
      ],
      "metadata": {
        "colab": {
          "base_uri": "https://localhost:8080/"
        },
        "id": "gHGDcxMr6ooJ",
        "outputId": "52e4292e-6d66-4122-b903-c988f7ebeeee"
      },
      "execution_count": null,
      "outputs": [
        {
          "output_type": "stream",
          "name": "stdout",
          "text": [
            "['A', 'B', 'C', 'D', 'E', 'F', 'G', 'H', 'I', 'J', 'K', 'L', 'M']\n"
          ]
        }
      ]
    },
    {
      "cell_type": "markdown",
      "source": [
        "# Busca em Largura (BFS) $\\times$ Busca em Profundidade (DFS)\n",
        "\n",
        "Ambos apresentam uma **complexidade de tempo O(V + E)**, onde V é o número de vértices e E é o número de arestas (edges). Mas o BFS tem uma complexidade de espaço O(V) (armazenar todos os nós em cada nível da árvore em uma fila até que sejam processados) enquanto o DFS tem uma complexidade de espaço O(h), onde h é a altura do grafo ou da árvore (emprega uma pilha para armazenar apenas o caminho de profundidade atual). Isso traz grandes limitações para esses algoritmos.\n",
        "\n",
        "- **BFS**\n",
        "  - **Vantagens**: Garante a menor distância em problemas de caminho mais curto não ponderados.\n",
        "  - **Desvantagens**: Consome mais memória e pode ser menos eficiente se o espaço de estado for muito largo.\n",
        "\n",
        "- **DFS**:\n",
        "  - **Vantagens**: Usa menos espaço, especialmente em árvores ou grafos com profundidade significativa e é mais fácil de implementar com recursão.\n",
        "  - **Desvantagens**: Não garante a menor distância."
      ],
      "metadata": {
        "id": "qe4THxGvxn6w"
      }
    },
    {
      "cell_type": "markdown",
      "source": [
        "\n",
        "<p align=\"right\">\n",
        "  <img src=\"https://github.com/Rogerio-mack/IA_2025S1/blob/main/figures/time_memory_BFS.png?raw=true\" width=\"70%\" align=\"left\"/>\n",
        "</p>"
      ],
      "metadata": {
        "id": "PfQR9_3u0Ic4"
      }
    },
    {
      "cell_type": "markdown",
      "source": [
        "# Buscas Informadas\n",
        "\n",
        "Até aqui os algoritmos de busca não empregavam qualquer informação como custo de cada caminho no grafo (como distâncias). Os algoritmos a seguir consideram essa informação."
      ],
      "metadata": {
        "id": "Ih6Z_kGqe9sa"
      }
    },
    {
      "cell_type": "markdown",
      "source": [
        "## Heurística\n",
        "\n",
        "Heurística é frequentemente utilizado para se referir a um técnica (de IA) que melhora o desempenho do caso médio na tarefa de solução de um problema. Você pode pensar em uma aproximação ou regra prática que pode ser empregada para reduzir o espaço de busca e encontrar uma solução satisfatória de um problema de maneira em média mais eficiente, embora **não garantindo necessariamente a solução ótima.**"
      ],
      "metadata": {
        "id": "s57OCf5veGB6"
      }
    },
    {
      "cell_type": "markdown",
      "source": [
        "## Nick's Problem\n",
        "\n",
        "O problema de Nick em encontrar rotas na Romênia é um problema clássico de IA onde o objetivo é encontrar a rota mais curta de Arad para Bucareste, na Romênia, e empregado para aplicação e exemplos de algoritmos de busca como BFS Breadth-First Search ou A*."
      ],
      "metadata": {
        "id": "fhywUkKUfVFH"
      }
    },
    {
      "cell_type": "markdown",
      "source": [
        "\n",
        "\n",
        "<p align=\"right\">\n",
        "  <img src=\"https://github.com/Rogerio-mack/IA_2025S1/blob/main/figures/Romania_map.png?raw=true\" width=\"70%\" align=\"left\"/>\n",
        "</p>"
      ],
      "metadata": {
        "id": "vCWiTmY8a--s"
      }
    },
    {
      "cell_type": "markdown",
      "source": [
        "### Greedy Search (Busca Gulosa)\n",
        "\n",
        "Este algoritmo expande o caminho mais promissor em cada etapa, escolhendo o nó que parece ser o mais promissor para alcançar o objetivo com base apenas em uma função **heurística** $h(n)$ (aqui, o custo para ir do nó atual ao objetivo).\n",
        "\n",
        "Ele não garante o caminho mais curto ou de menor custo.\n",
        "\n",
        "<br>\n",
        "<br>\n",
        "\n",
        "![imagem](https://github.com/Rogerio-mack/IA_2025S1/blob/main/figures/greedy_best_first.png?raw=true)"
      ],
      "metadata": {
        "id": "hXm8ndm_dXw4"
      }
    },
    {
      "cell_type": "markdown",
      "source": [
        "### Dijkstra's Algorithm\n",
        "\n",
        "Este algoritmo encontra **o caminho mais curto** de um nó inicial a todos os outros nós em um grafo com pesos não-negativos. Ele emprega o custo acumulado para alcançar um nó ($g(n)$), mas sempre emprega o nó mais próximo e não é assim uma aproximação ou heurística, este é um algoritmo **sem heurística**.\n",
        "\n",
        "<br>\n",
        "\n",
        "See: https://www.quantamagazine.org/computer-scientists-establish-the-best-way-to-traverse-a-graph-20241025/\n",
        "\n",
        "<br>\n",
        "\n",
        "<p align=\"right\">\n",
        "  <img src=\"https://github.com/Rogerio-mack/IA_2025S1/blob/main/figures/Dijkstra.jpg?raw=true\" width=\"40%\" align=\"left\"/>\n",
        "</p>\n",
        "\n",
        "\n"
      ],
      "metadata": {
        "id": "pEUZMK7Jf_tG"
      }
    },
    {
      "cell_type": "markdown",
      "source": [
        "### A* ou A-Star  \n",
        "\n",
        "Este algoritmo encontra o caminho mais curto de um nó inicial a um nó final usando como **heurística uma combinação de custo $f(n) = g(n) + h(n)$**, onde real $g(n)$ e o custo estimado $h(n)$, que prioriza nós de maneira mais informada que a busca gulosa.\n",
        "\n",
        "<br>\n",
        "\n",
        "<p align=\"right\">\n",
        "  <img src=\"https://github.com/Rogerio-mack/IA_2025S1/blob/main/figures/AStar.png?raw=true\" width=\"50%\" align=\"left\"/>\n",
        "</p>\n",
        "\n",
        "<p align=\"right\">\n",
        "  <img src=\"https://github.com/Rogerio-mack/IA_2025S1/blob/main/figures/AStar_ideia.png?raw=true\" width=\"50%\" align=\"left\"/>\n",
        "</p>\n",
        "\n"
      ],
      "metadata": {
        "id": "aD-hGpS3gB0v"
      }
    },
    {
      "cell_type": "markdown",
      "source": [
        "# Greedy $\\times$ Dijkstra $\\times$ A-Star\n",
        "\n",
        "Todos esses algoritmos têm complexidade de tempo **O(E log V)** e complexidade de espaço **O(V)** (*por quê?*). A Busca Gulosa é mais fácil de implementar e rápida, mas não garante a solução ótima. O algoritmo de Dijkstra, garante a solução ótima, mas pode ser lento para grandes grafos. O A-Star, otimiza a busca da solução de Dijkstra, mas pode falhar nos casos em que a heurística não for admissível (isto é, se houverem estimativas de custo que superestimem o custo real)."
      ],
      "metadata": {
        "id": "_ArrpdWW1M8N"
      }
    },
    {
      "cell_type": "markdown",
      "source": [
        "# Exercício\n",
        "\n",
        "Crie um grafo de no mínimo 12 cidades ligando duas cidades brasileiras (por exemplo São Paulo e Rio de Janeiro, ou São Paulo e Curitiba). Implemente então dois algoritmos de busca, um BFS e outro algoritmo de busca informada de sua escolha. A entrega deve ser feita em um notebook (Colab) 100% executável. Inclua textos explicativos (é um notebook) e as referências empregadas.\n",
        "\n",
        "Atividade em grupo, máx 5 alunos.\n",
        "\n",
        "#### **Referências úteis**\n",
        "\n",
        "- Notas de aula\n",
        "\n",
        "- https://ricwtk.github.io/ai-labs/lab2/\n",
        "\n",
        "- https://github.com/JakeDerkowski96/RomaniaProblemAI\n",
        "\n",
        "#### **Entregas**\n",
        "\n",
        "- **19.03** Entrega 1: Grafo das cidades (2,0), *empregue no networkx para exibir o grafo e os custos associados; explore e informe nesta entrega o algoritmo informado que será empregado na Entrega final*\n",
        "\n",
        "- **26.03** Entrega 2: Entrega 1 + do BFS (3,0), *exiba soluções intermediárias antes da solução final*\n",
        "\n",
        "- **02.04** Entrega 3: Entrega 1 + Entrega 2 + Algoritmo de busca informada (5,0), *discuta resumidamente os resultados*\n",
        "\n",
        "\n"
      ],
      "metadata": {
        "id": "1T0BjUBP3q0i"
      }
    }
  ]
}